{
 "cells": [
  {
   "cell_type": "markdown",
   "id": "23c6af9e",
   "metadata": {},
   "source": [
    "# Feature Engineering "
   ]
  },
  {
   "cell_type": "markdown",
   "id": "062b3f63",
   "metadata": {},
   "source": [
    "## Feature Transformation"
   ]
  },
  {
   "cell_type": "markdown",
   "id": "cb7d08d2",
   "metadata": {},
   "source": [
    "## Missing Value Imputation  \n",
    "- The library used to train ML model does not accenpt the missing value.\n",
    "- We have to either fill (mode , mean , median) those missing value or we have to drop those value.\n"
   ]
  },
  {
   "cell_type": "markdown",
   "id": "7172ae1c",
   "metadata": {},
   "source": [
    "## Handling categorical Values \n",
    "- The library doesnot accept the categorical values. \n",
    "- We need to change the categorical values to numerical values."
   ]
  },
  {
   "cell_type": "markdown",
   "id": "e83b7328",
   "metadata": {},
   "source": [
    "## Outlier Detection \n",
    "- One value that can affect the performance of the whole ML model.\n",
    "- Due to the outlier the model behaviour will change. \n"
   ]
  },
  {
   "cell_type": "markdown",
   "id": "c67e7813",
   "metadata": {},
   "source": [
    "## Features Scaling \n",
    "- The differ in ranges is very high (salary -> deals in thousands like 90000 , age -> deals in tens like 35)\n",
    "- We change the scale of data means convert to some range. [-1 to 100000]"
   ]
  },
  {
   "cell_type": "markdown",
   "id": "f043d340",
   "metadata": {},
   "source": [
    "## Feature Construction \n",
    "- When there is similarity in columns data like (In a month a Person spends -> food - Rs 5000 , Rent - Rs. 10000, Other - Rs. 10000 -> then it will be converted to -> Monthly Expense of that person)"
   ]
  },
  {
   "cell_type": "markdown",
   "id": "b608f815",
   "metadata": {},
   "source": [
    "## Feature Selection\n",
    "- So many columns are there and you choose most relevent columns for yourself. \n"
   ]
  },
  {
   "cell_type": "markdown",
   "id": "81d6d673",
   "metadata": {},
   "source": [
    "## Feature Extraction \n",
    "- We create completely new features from the data programatically. "
   ]
  }
 ],
 "metadata": {
  "kernelspec": {
   "display_name": "Python 3",
   "language": "python",
   "name": "python3"
  },
  "language_info": {
   "codemirror_mode": {
    "name": "ipython",
    "version": 3
   },
   "file_extension": ".py",
   "mimetype": "text/x-python",
   "name": "python",
   "nbconvert_exporter": "python",
   "pygments_lexer": "ipython3",
   "version": "3.13.2"
  }
 },
 "nbformat": 4,
 "nbformat_minor": 5
}
